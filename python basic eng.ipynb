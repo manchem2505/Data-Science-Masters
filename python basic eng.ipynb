{
 "cells": [
  {
   "cell_type": "code",
   "execution_count": 4,
   "id": "fc4acc17-69f3-4cf1-b939-c190de4886a5",
   "metadata": {},
   "outputs": [
    {
     "name": "stdout",
     "output_type": "stream",
     "text": [
      "hello to a progamming world\n"
     ]
    }
   ],
   "source": [
    "print(\"hello to a progamming world\")"
   ]
  },
  {
   "cell_type": "code",
   "execution_count": 5,
   "id": "1be9cbb1-245c-490c-ba4e-24b2f789429b",
   "metadata": {},
   "outputs": [],
   "source": [
    "a = 10"
   ]
  },
  {
   "cell_type": "code",
   "execution_count": 6,
   "id": "eca2d11d-41bf-49c5-a9a9-1604d348929d",
   "metadata": {},
   "outputs": [
    {
     "data": {
      "text/plain": [
       "10"
      ]
     },
     "execution_count": 6,
     "metadata": {},
     "output_type": "execute_result"
    }
   ],
   "source": [
    "a"
   ]
  },
  {
   "cell_type": "code",
   "execution_count": 7,
   "id": "de87dd73-3b2d-4222-9639-7d07978b2dbf",
   "metadata": {},
   "outputs": [
    {
     "data": {
      "text/plain": [
       "int"
      ]
     },
     "execution_count": 7,
     "metadata": {},
     "output_type": "execute_result"
    }
   ],
   "source": [
    "type(a)"
   ]
  },
  {
   "cell_type": "code",
   "execution_count": 8,
   "id": "d6f41f61-7ecc-42fd-a3ce-1aa236a05139",
   "metadata": {},
   "outputs": [],
   "source": [
    "b = 34.4565"
   ]
  },
  {
   "cell_type": "code",
   "execution_count": 9,
   "id": "3e8683a8-3980-4978-a569-6985169624b1",
   "metadata": {},
   "outputs": [
    {
     "data": {
      "text/plain": [
       "34.4565"
      ]
     },
     "execution_count": 9,
     "metadata": {},
     "output_type": "execute_result"
    }
   ],
   "source": [
    "b"
   ]
  },
  {
   "cell_type": "code",
   "execution_count": 10,
   "id": "63fa44d7-1bfd-4d1f-9fa1-3365b98eaae6",
   "metadata": {},
   "outputs": [
    {
     "data": {
      "text/plain": [
       "float"
      ]
     },
     "execution_count": 10,
     "metadata": {},
     "output_type": "execute_result"
    }
   ],
   "source": [
    "type(b)"
   ]
  },
  {
   "cell_type": "code",
   "execution_count": 11,
   "id": "fa1d542c-196a-4d6e-949a-391ff8dc9711",
   "metadata": {},
   "outputs": [],
   "source": [
    "c = \"sudh\""
   ]
  },
  {
   "cell_type": "code",
   "execution_count": 12,
   "id": "10d59615-7eb4-4239-8323-f26c5d9b6145",
   "metadata": {},
   "outputs": [],
   "source": [
    "c1 = 'pwskills'"
   ]
  },
  {
   "cell_type": "code",
   "execution_count": 13,
   "id": "0d0bcdf1-5da8-4d77-b77f-cfcd33d4cfae",
   "metadata": {},
   "outputs": [
    {
     "data": {
      "text/plain": [
       "str"
      ]
     },
     "execution_count": 13,
     "metadata": {},
     "output_type": "execute_result"
    }
   ],
   "source": [
    "type(c)"
   ]
  },
  {
   "cell_type": "code",
   "execution_count": 14,
   "id": "eb6d2a53-71d8-423b-8484-1d7a131d2b7b",
   "metadata": {},
   "outputs": [],
   "source": [
    "d= True"
   ]
  },
  {
   "cell_type": "code",
   "execution_count": 15,
   "id": "3af76182-7b18-4358-9c54-7cdfb4b73d4e",
   "metadata": {},
   "outputs": [
    {
     "data": {
      "text/plain": [
       "bool"
      ]
     },
     "execution_count": 15,
     "metadata": {},
     "output_type": "execute_result"
    }
   ],
   "source": [
    "type(d)"
   ]
  },
  {
   "cell_type": "code",
   "execution_count": 16,
   "id": "3b35970e-b1aa-44a7-8638-732dce9534bb",
   "metadata": {},
   "outputs": [],
   "source": [
    "d1 = False"
   ]
  },
  {
   "cell_type": "code",
   "execution_count": 17,
   "id": "47e69592-40f7-4734-932e-94bbace55cbe",
   "metadata": {},
   "outputs": [
    {
     "data": {
      "text/plain": [
       "bool"
      ]
     },
     "execution_count": 17,
     "metadata": {},
     "output_type": "execute_result"
    }
   ],
   "source": [
    "type(d1)"
   ]
  },
  {
   "cell_type": "code",
   "execution_count": 18,
   "id": "4a59f46c-b886-4878-9ca6-73c7e4c689ef",
   "metadata": {},
   "outputs": [
    {
     "data": {
      "text/plain": [
       "1"
      ]
     },
     "execution_count": 18,
     "metadata": {},
     "output_type": "execute_result"
    }
   ],
   "source": [
    "True - False"
   ]
  },
  {
   "cell_type": "code",
   "execution_count": 19,
   "id": "84623914-fc5b-41b1-bdff-0a1b45476645",
   "metadata": {},
   "outputs": [
    {
     "data": {
      "text/plain": [
       "0"
      ]
     },
     "execution_count": 19,
     "metadata": {},
     "output_type": "execute_result"
    }
   ],
   "source": [
    "True * False"
   ]
  },
  {
   "cell_type": "code",
   "execution_count": 20,
   "id": "d9ed70e3-40f2-4c12-b0c0-d2cdab45fb06",
   "metadata": {},
   "outputs": [
    {
     "ename": "ZeroDivisionError",
     "evalue": "division by zero",
     "output_type": "error",
     "traceback": [
      "\u001b[0;31m---------------------------------------------------------------------------\u001b[0m",
      "\u001b[0;31mZeroDivisionError\u001b[0m                         Traceback (most recent call last)",
      "Cell \u001b[0;32mIn[20], line 1\u001b[0m\n\u001b[0;32m----> 1\u001b[0m \u001b[38;5;28;43;01mTrue\u001b[39;49;00m\u001b[43m \u001b[49m\u001b[38;5;241;43m/\u001b[39;49m\u001b[43m \u001b[49m\u001b[38;5;28;43;01mFalse\u001b[39;49;00m\n",
      "\u001b[0;31mZeroDivisionError\u001b[0m: division by zero"
     ]
    }
   ],
   "source": [
    "True / False"
   ]
  },
  {
   "cell_type": "code",
   "execution_count": 25,
   "id": "3a27dafe-5f45-4681-9613-5fb5d5c8d8d6",
   "metadata": {},
   "outputs": [],
   "source": [
    "e = 4+7j"
   ]
  },
  {
   "cell_type": "code",
   "execution_count": 22,
   "id": "8f301a53-d2ca-4f45-9ef4-bcb4c69ba76a",
   "metadata": {},
   "outputs": [
    {
     "data": {
      "text/plain": [
       "complex"
      ]
     },
     "execution_count": 22,
     "metadata": {},
     "output_type": "execute_result"
    }
   ],
   "source": [
    "type(e)"
   ]
  },
  {
   "cell_type": "code",
   "execution_count": 26,
   "id": "965cb4e4-6683-4b1f-abb1-af66e5bf4d94",
   "metadata": {},
   "outputs": [
    {
     "data": {
      "text/plain": [
       "(4+7j)"
      ]
     },
     "execution_count": 26,
     "metadata": {},
     "output_type": "execute_result"
    }
   ],
   "source": [
    "e"
   ]
  },
  {
   "cell_type": "code",
   "execution_count": 27,
   "id": "b9314c62-5f5e-4c6e-9cc3-22fd5901982c",
   "metadata": {},
   "outputs": [
    {
     "data": {
      "text/plain": [
       "4.0"
      ]
     },
     "execution_count": 27,
     "metadata": {},
     "output_type": "execute_result"
    }
   ],
   "source": [
    "e.real"
   ]
  },
  {
   "cell_type": "code",
   "execution_count": 32,
   "id": "44d375a0-58eb-4b7c-8fef-0c8a816334a0",
   "metadata": {},
   "outputs": [
    {
     "data": {
      "text/plain": [
       "7.0"
      ]
     },
     "execution_count": 32,
     "metadata": {},
     "output_type": "execute_result"
    }
   ],
   "source": [
    "\"\"\"This is extracting a \n",
    "imag part of \n",
    "my complex number\"\"\"\n",
    "e.imag"
   ]
  },
  {
   "cell_type": "code",
   "execution_count": 33,
   "id": "173f700b-2ce9-4cef-bfea-a3d8c26d0ad3",
   "metadata": {},
   "outputs": [],
   "source": [
    "a= 10"
   ]
  },
  {
   "cell_type": "code",
   "execution_count": 34,
   "id": "19d1b4a8-ac98-4ddb-9468-6638472ed745",
   "metadata": {},
   "outputs": [
    {
     "ename": "SyntaxError",
     "evalue": "invalid decimal literal (482919702.py, line 1)",
     "output_type": "error",
     "traceback": [
      "\u001b[0;36m  Cell \u001b[0;32mIn[34], line 1\u001b[0;36m\u001b[0m\n\u001b[0;31m    1a = 10\u001b[0m\n\u001b[0m    ^\u001b[0m\n\u001b[0;31mSyntaxError\u001b[0m\u001b[0;31m:\u001b[0m invalid decimal literal\n"
     ]
    }
   ],
   "source": [
    "1a = 10"
   ]
  },
  {
   "cell_type": "code",
   "execution_count": 35,
   "id": "79b5d724-ff7e-4342-99a6-e07c40ef46da",
   "metadata": {},
   "outputs": [
    {
     "ename": "SyntaxError",
     "evalue": "cannot assign to literal here. Maybe you meant '==' instead of '='? (2809596169.py, line 1)",
     "output_type": "error",
     "traceback": [
      "\u001b[0;36m  Cell \u001b[0;32mIn[35], line 1\u001b[0;36m\u001b[0m\n\u001b[0;31m    11 = 10\u001b[0m\n\u001b[0m    ^\u001b[0m\n\u001b[0;31mSyntaxError\u001b[0m\u001b[0;31m:\u001b[0m cannot assign to literal here. Maybe you meant '==' instead of '='?\n"
     ]
    }
   ],
   "source": [
    "11 = 10"
   ]
  },
  {
   "cell_type": "code",
   "execution_count": 37,
   "id": "317bfdab-1b6c-4a49-b3e6-207079950835",
   "metadata": {},
   "outputs": [
    {
     "ename": "SyntaxError",
     "evalue": "invalid syntax. Maybe you meant '==' or ':=' instead of '='? (237063821.py, line 1)",
     "output_type": "error",
     "traceback": [
      "\u001b[0;36m  Cell \u001b[0;32mIn[37], line 1\u001b[0;36m\u001b[0m\n\u001b[0;31m    @ererw = 34\u001b[0m\n\u001b[0m     ^\u001b[0m\n\u001b[0;31mSyntaxError\u001b[0m\u001b[0;31m:\u001b[0m invalid syntax. Maybe you meant '==' or ':=' instead of '='?\n"
     ]
    }
   ],
   "source": [
    "@ererw = 34"
   ]
  },
  {
   "cell_type": "code",
   "execution_count": 38,
   "id": "e492802f-3747-4081-a91d-46674f591a03",
   "metadata": {},
   "outputs": [],
   "source": [
    "#fdsf = 345"
   ]
  },
  {
   "cell_type": "code",
   "execution_count": 39,
   "id": "dade8283-717a-4870-9553-9e02f7fdc122",
   "metadata": {},
   "outputs": [
    {
     "name": "stderr",
     "output_type": "stream",
     "text": [
      "UsageError: Line magic function `%fdsfa=` not found.\n"
     ]
    }
   ],
   "source": [
    "%fdsfa= 3434"
   ]
  },
  {
   "cell_type": "code",
   "execution_count": 40,
   "id": "ed6b790b-6e57-43b6-8ee1-944c59deff8e",
   "metadata": {},
   "outputs": [],
   "source": [
    "_a = 34"
   ]
  },
  {
   "cell_type": "code",
   "execution_count": 41,
   "id": "36787245-0cd6-4521-a27a-69a551bedba8",
   "metadata": {},
   "outputs": [
    {
     "data": {
      "text/plain": [
       "34"
      ]
     },
     "execution_count": 41,
     "metadata": {},
     "output_type": "execute_result"
    }
   ],
   "source": [
    "_a"
   ]
  },
  {
   "cell_type": "code",
   "execution_count": 42,
   "id": "1f48ed5d-12a8-42f9-af22-f06a139669a0",
   "metadata": {},
   "outputs": [],
   "source": [
    "a1 = 4554"
   ]
  },
  {
   "cell_type": "code",
   "execution_count": 44,
   "id": "55a420b7-d79e-41bd-8d37-ca48fad66142",
   "metadata": {},
   "outputs": [
    {
     "ename": "SyntaxError",
     "evalue": "invalid syntax (2860961349.py, line 1)",
     "output_type": "error",
     "traceback": [
      "\u001b[0;36m  Cell \u001b[0;32mIn[44], line 1\u001b[0;36m\u001b[0m\n\u001b[0;31m    a& = 45\u001b[0m\n\u001b[0m       ^\u001b[0m\n\u001b[0;31mSyntaxError\u001b[0m\u001b[0;31m:\u001b[0m invalid syntax\n"
     ]
    }
   ],
   "source": [
    "a& = 45"
   ]
  },
  {
   "cell_type": "code",
   "execution_count": 45,
   "id": "d852933c-7f4b-4792-8299-500c918b2157",
   "metadata": {},
   "outputs": [
    {
     "ename": "SyntaxError",
     "evalue": "invalid syntax (1926827449.py, line 1)",
     "output_type": "error",
     "traceback": [
      "\u001b[0;36m  Cell \u001b[0;32mIn[45], line 1\u001b[0;36m\u001b[0m\n\u001b[0;31m    a% = 234\u001b[0m\n\u001b[0m       ^\u001b[0m\n\u001b[0;31mSyntaxError\u001b[0m\u001b[0;31m:\u001b[0m invalid syntax\n"
     ]
    }
   ],
   "source": [
    "a% = 234"
   ]
  },
  {
   "cell_type": "code",
   "execution_count": 46,
   "id": "77ae1029-e059-41d3-9f7e-337c33707236",
   "metadata": {},
   "outputs": [],
   "source": [
    "sudh = 345"
   ]
  },
  {
   "cell_type": "code",
   "execution_count": 47,
   "id": "01e40cb7-209a-46f7-97b5-a9e895e3c716",
   "metadata": {},
   "outputs": [
    {
     "data": {
      "text/plain": [
       "345"
      ]
     },
     "execution_count": 47,
     "metadata": {},
     "output_type": "execute_result"
    }
   ],
   "source": [
    "sudh"
   ]
  },
  {
   "cell_type": "code",
   "execution_count": 49,
   "id": "148bf072-5406-4db4-802b-8443e42ca2e9",
   "metadata": {},
   "outputs": [],
   "source": [
    "s = \"sudh\""
   ]
  },
  {
   "cell_type": "code",
   "execution_count": 50,
   "id": "96d5db27-babc-4406-ab74-7c567a122102",
   "metadata": {},
   "outputs": [],
   "source": [
    "a = 10"
   ]
  },
  {
   "cell_type": "code",
   "execution_count": 56,
   "id": "7e30c1af-d377-48e2-a840-e30bb223eb73",
   "metadata": {},
   "outputs": [
    {
     "data": {
      "text/plain": [
       "'10sudh'"
      ]
     },
     "execution_count": 56,
     "metadata": {},
     "output_type": "execute_result"
    }
   ],
   "source": [
    "str(a)+s"
   ]
  },
  {
   "cell_type": "code",
   "execution_count": 57,
   "id": "0aa5564a-4d1d-4467-a50c-23584fb735ab",
   "metadata": {},
   "outputs": [
    {
     "name": "stdin",
     "output_type": "stream",
     "text": [
      " 45464\n"
     ]
    }
   ],
   "source": [
    "b = input()"
   ]
  },
  {
   "cell_type": "code",
   "execution_count": 58,
   "id": "dcc237ac-8eeb-4558-8df6-243d41bb4961",
   "metadata": {},
   "outputs": [
    {
     "data": {
      "text/plain": [
       "'45464'"
      ]
     },
     "execution_count": 58,
     "metadata": {},
     "output_type": "execute_result"
    }
   ],
   "source": [
    "b"
   ]
  },
  {
   "cell_type": "code",
   "execution_count": 59,
   "id": "0277de72-c9ce-44de-9c72-a91568d68fed",
   "metadata": {},
   "outputs": [
    {
     "data": {
      "text/plain": [
       "str"
      ]
     },
     "execution_count": 59,
     "metadata": {},
     "output_type": "execute_result"
    }
   ],
   "source": [
    "type(b)"
   ]
  },
  {
   "cell_type": "code",
   "execution_count": 60,
   "id": "b7da29d5-b1ee-4da3-9917-ecfbfca2d2ea",
   "metadata": {},
   "outputs": [
    {
     "name": "stdin",
     "output_type": "stream",
     "text": [
      " 56575657\n"
     ]
    }
   ],
   "source": [
    "c = int(input())"
   ]
  },
  {
   "cell_type": "code",
   "execution_count": 61,
   "id": "b8621128-eb7e-4433-949e-facd418f0de1",
   "metadata": {},
   "outputs": [
    {
     "data": {
      "text/plain": [
       "int"
      ]
     },
     "execution_count": 61,
     "metadata": {},
     "output_type": "execute_result"
    }
   ],
   "source": [
    "type(c)"
   ]
  },
  {
   "cell_type": "code",
   "execution_count": null,
   "id": "1074ece2-b54b-4079-8018-b68d4ba7eacb",
   "metadata": {},
   "outputs": [],
   "source": []
  }
 ],
 "metadata": {
  "kernelspec": {
   "display_name": "Python 3 (ipykernel)",
   "language": "python",
   "name": "python3"
  },
  "language_info": {
   "codemirror_mode": {
    "name": "ipython",
    "version": 3
   },
   "file_extension": ".py",
   "mimetype": "text/x-python",
   "name": "python",
   "nbconvert_exporter": "python",
   "pygments_lexer": "ipython3",
   "version": "3.10.8"
  }
 },
 "nbformat": 4,
 "nbformat_minor": 5
}
