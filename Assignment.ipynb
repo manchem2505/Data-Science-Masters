{
  "nbformat": 4,
  "nbformat_minor": 0,
  "metadata": {
    "colab": {
      "provenance": []
    },
    "kernelspec": {
      "name": "python3",
      "display_name": "Python 3"
    },
    "language_info": {
      "name": "python"
    }
  },
  "cells": [
    {
      "cell_type": "markdown",
      "source": [
        "1. Declare two variables, `x` and `y`, and assign them integer values. Swap the\n",
        "values of these variables without using any temporary variable."
      ],
      "metadata": {
        "id": "iy4mzIhkEoTs"
      }
    },
    {
      "cell_type": "markdown",
      "source": [],
      "metadata": {
        "id": "baqwbIv-B3_j"
      }
    },
    {
      "cell_type": "code",
      "source": [
        "X=int(input(\"Enter the value of 'X' is:\"))\n",
        "Y=int(input(\"Enter the value of 'Y' is:\"))\n",
        "X=X+Y\n",
        "Y=X-Y\n",
        "X=X-Y\n",
        "print(\"After Swaping the value of X is:{}\".format(X))\n",
        "print(\"After Swaping the value of Y is:{}\".format(Y))\n"
      ],
      "metadata": {
        "colab": {
          "base_uri": "https://localhost:8080/"
        },
        "id": "JLokiqWJB5tM",
        "outputId": "2fa14089-1c27-4b17-8678-fd234b125ff1"
      },
      "execution_count": null,
      "outputs": [
        {
          "output_type": "stream",
          "name": "stdout",
          "text": [
            "Enter the value of 'X' is:30\n",
            "Enter the value of 'Y' is:50\n",
            "After Swaping the value of X is:50\n",
            "After Swaping the value of Y is:30\n"
          ]
        }
      ]
    },
    {
      "cell_type": "code",
      "source": [],
      "metadata": {
        "id": "wecoT8x-CMTi"
      },
      "execution_count": null,
      "outputs": []
    },
    {
      "cell_type": "markdown",
      "source": [
        "2. Create a program that calculates the area of a rectangle. Take the length and\n",
        "width as inputs from the user and store them in variables. Calculate and\n",
        "display the area."
      ],
      "metadata": {
        "id": "F52U-_JGmFid"
      }
    },
    {
      "cell_type": "code",
      "source": [
        "l=int(input(\"Enter the length:\"))\n",
        "b=int(input(\"Enter the Width:\"))\n",
        "A=l*b\n",
        "print(\"Area of thr rectangle is:{}\".format(A))"
      ],
      "metadata": {
        "colab": {
          "base_uri": "https://localhost:8080/"
        },
        "id": "PeMbkh13mKTc",
        "outputId": "d5849ffc-c586-464a-e640-cc80a396f1d8"
      },
      "execution_count": null,
      "outputs": [
        {
          "output_type": "stream",
          "name": "stdout",
          "text": [
            "Enter the length:20\n",
            "Enter the Width:30\n",
            "Area of thr rectangle is:600\n"
          ]
        }
      ]
    },
    {
      "cell_type": "code",
      "source": [],
      "metadata": {
        "id": "ouIBc86vmyHb"
      },
      "execution_count": null,
      "outputs": []
    },
    {
      "cell_type": "markdown",
      "source": [
        "3. Write a Python program that converts temperatures from Celsius to\n",
        "Fahrenheit. Take the temperature in Celsius as input, store it in a variable,\n",
        "convert it to Fahrenheit, and display the result."
      ],
      "metadata": {
        "id": "EEc_-bWnnDyS"
      }
    },
    {
      "cell_type": "code",
      "source": [
        "C=int(input(\"Enter the Value in Celsius:\"))\n",
        "F=(C*9/5)+32\n",
        "print(\"The Value in Fahrenheit is:{}\".format(F))"
      ],
      "metadata": {
        "colab": {
          "base_uri": "https://localhost:8080/"
        },
        "id": "v3XkiMK9nFRZ",
        "outputId": "afeedc9d-15b1-442d-ccd3-fdc2e5e177ae"
      },
      "execution_count": null,
      "outputs": [
        {
          "output_type": "stream",
          "name": "stdout",
          "text": [
            "Enter the Value in Celsius:26\n",
            "The Value in Fahrenheit is:78.8\n"
          ]
        }
      ]
    },
    {
      "cell_type": "code",
      "source": [],
      "metadata": {
        "id": "mJ1ypNrFqCNR"
      },
      "execution_count": null,
      "outputs": []
    },
    {
      "cell_type": "markdown",
      "source": [
        "1. Write a Python program that takes a string as input and prints the length of\n",
        "the string."
      ],
      "metadata": {
        "id": "bKuWgKP_qRfr"
      }
    },
    {
      "cell_type": "code",
      "source": [
        "S=str(input(\"Enter the String:\"))\n",
        "length=len(S)\n",
        "print(\"Length of the String is:{}\".format(length))"
      ],
      "metadata": {
        "colab": {
          "base_uri": "https://localhost:8080/"
        },
        "id": "5x_efHnwqSuL",
        "outputId": "ecf93095-56ef-4105-82eb-c094d0b38210"
      },
      "execution_count": null,
      "outputs": [
        {
          "output_type": "stream",
          "name": "stdout",
          "text": [
            "Enter the String:I am learning a Data Science\n",
            "Length of the String is:28\n"
          ]
        }
      ]
    },
    {
      "cell_type": "markdown",
      "source": [],
      "metadata": {
        "id": "oAvcMps0rakX"
      }
    },
    {
      "cell_type": "markdown",
      "source": [
        "2. Create a program that takes a sentence from the user and counts the number\n",
        "of vowels (a, e, i, o, u) in the string."
      ],
      "metadata": {
        "id": "kd-H5ONDrdsS"
      }
    },
    {
      "cell_type": "code",
      "source": [
        "S=str(input(\"Enter the String:\"))\n",
        "Vowel_count=0\n",
        "for i in S:\n",
        "  Sen=i.lower()\n",
        "  if Sen in 'aeiou':\n",
        "    Vowel_count=Vowel_count+1\n",
        "print(\"No Of Vowels:{}\".format(Vowel_count))\n"
      ],
      "metadata": {
        "colab": {
          "base_uri": "https://localhost:8080/"
        },
        "id": "QY-tKcHprfmb",
        "outputId": "8318e187-972b-4264-f373-43b3b7f94ba3"
      },
      "execution_count": 6,
      "outputs": [
        {
          "output_type": "stream",
          "name": "stdout",
          "text": [
            "Enter the String:I am learning Data ScIencE\n",
            "No Of Vowels:10\n"
          ]
        }
      ]
    },
    {
      "cell_type": "code",
      "source": [],
      "metadata": {
        "id": "JX4PnBNgq0T9"
      },
      "execution_count": null,
      "outputs": []
    },
    {
      "cell_type": "markdown",
      "source": [
        "3. Given a string, reverse the order of characters using string slicing and print\n",
        "the reversed string."
      ],
      "metadata": {
        "id": "EQGYnE3Asy1f"
      }
    },
    {
      "cell_type": "code",
      "source": [
        "S1=str(input(\"Enter the String:\"))\n",
        "S2=S1[::-1]\n",
        "print(\"The reverse string is:{}\".format(S2))"
      ],
      "metadata": {
        "colab": {
          "base_uri": "https://localhost:8080/"
        },
        "id": "lz-E9v1vsz18",
        "outputId": "532fdc48-a47d-4fcb-852a-0720f4f80e8e"
      },
      "execution_count": null,
      "outputs": [
        {
          "output_type": "stream",
          "name": "stdout",
          "text": [
            "Enter the String:Python\n",
            "The reverse string is:nohtyP\n"
          ]
        }
      ]
    },
    {
      "cell_type": "code",
      "source": [],
      "metadata": {
        "id": "Th1VkAKUtAKF"
      },
      "execution_count": null,
      "outputs": []
    },
    {
      "cell_type": "markdown",
      "source": [
        "4. Write a program that takes a string as input and checks if it is a palindrome\n",
        "(reads the same forwards and backwards)."
      ],
      "metadata": {
        "id": "csDr-MD2tqnI"
      }
    },
    {
      "cell_type": "code",
      "source": [
        "S2=str(input(\"Enter the String:\"))\n",
        "S3=S2[::-1]\n",
        "print(\"The Palindrome Word is:{}\".format(S3))"
      ],
      "metadata": {
        "colab": {
          "base_uri": "https://localhost:8080/"
        },
        "id": "Mm0Liajst-sT",
        "outputId": "1dcfc900-6d65-4468-b870-1a11ffe29dac"
      },
      "execution_count": null,
      "outputs": [
        {
          "output_type": "stream",
          "name": "stdout",
          "text": [
            "Enter the String:Nun\n",
            "The Palindrome Word is:nuN\n"
          ]
        }
      ]
    },
    {
      "cell_type": "code",
      "source": [],
      "metadata": {
        "id": "FeAyy-U8uSM8"
      },
      "execution_count": null,
      "outputs": []
    },
    {
      "cell_type": "markdown",
      "source": [
        "5. Create a program that takes a string as input and removes all the spaces from\n",
        "it. Print the modified string without spaces."
      ],
      "metadata": {
        "id": "tPrg4NQxuZxB"
      }
    },
    {
      "cell_type": "code",
      "source": [
        "S4 = input(\"Enter a string: \")\n",
        "modified_string = \"\"\n",
        "for char in S4:\n",
        "    if char != \" \":\n",
        "       modified_string += char\n",
        "print(\"Modified string without spaces:\", modified_string)"
      ],
      "metadata": {
        "id": "JrPidBSyubJW",
        "colab": {
          "base_uri": "https://localhost:8080/"
        },
        "outputId": "3446eef6-4896-4bf3-e4f4-3f11ad1321e7"
      },
      "execution_count": 8,
      "outputs": [
        {
          "output_type": "stream",
          "name": "stdout",
          "text": [
            "Enter a string: I am learning Data Science\n",
            "Modified string without spaces: IamlearningDataScience\n"
          ]
        }
      ]
    },
    {
      "cell_type": "code",
      "source": [],
      "metadata": {
        "id": "SA9XJ59tl66p"
      },
      "execution_count": null,
      "outputs": []
    }
  ]
}